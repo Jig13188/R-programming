{
 "cells": [
  {
   "cell_type": "code",
   "execution_count": 1,
   "metadata": {},
   "outputs": [
    {
     "name": "stdout",
     "output_type": "stream",
     "text": [
      "E:\\End_Point_Monitoring_Kohls\\End_Point_Monitoring_Kohls\n"
     ]
    }
   ],
   "source": [
    "import shutil\n",
    "import os\n",
    "print(os.getcwd())\n",
    "os.chdir(r\"C:\\Users\\sysadmin\\Documents\\Apowersoft\\Apowersoft Online Screen Recorder\")"
   ]
  },
  {
   "cell_type": "code",
   "execution_count": 9,
   "metadata": {},
   "outputs": [
    {
     "data": {
      "text/plain": [
       "['20181012_172727.mp4',\n",
       " '20181012_172849.mp4',\n",
       " '20181012_174357.mp4',\n",
       " '20181121_151206.mp4',\n",
       " 'SAP Preprocessing.mp4',\n",
       " 'SAP Preprocessing_2.mp4']"
      ]
     },
     "execution_count": 9,
     "metadata": {},
     "output_type": "execute_result"
    }
   ],
   "source": [
    "os.listdir()"
   ]
  },
  {
   "cell_type": "code",
   "execution_count": 7,
   "metadata": {},
   "outputs": [],
   "source": [
    "source = os.listdir(r\"C:\\Users\\sysadmin\\Documents\\Apowersoft\\Apowersoft Online Screen Recorder\")\n",
    "destination = r\"E:\\APowersoft\"\n",
    "\n",
    "for files in source:\n",
    "    if files.endswith(\".mp4\"):\n",
    "        shutil.copy(files,destination)\n",
    "\n",
    "# shutil.rmtree(r\"C:\\Users\\sysadmin\\Documents\\Apowersoft\\Apowersoft Online Screen Recorder\") # TO deleted all files in floder"
   ]
  }
 ],
 "metadata": {
  "kernelspec": {
   "display_name": "Python 3",
   "language": "python",
   "name": "python3"
  },
  "language_info": {
   "codemirror_mode": {
    "name": "ipython",
    "version": 3
   },
   "file_extension": ".py",
   "mimetype": "text/x-python",
   "name": "python",
   "nbconvert_exporter": "python",
   "pygments_lexer": "ipython3",
   "version": "3.6.4"
  }
 },
 "nbformat": 4,
 "nbformat_minor": 2
}
